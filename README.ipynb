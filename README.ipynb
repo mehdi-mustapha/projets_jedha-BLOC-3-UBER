{
 "cells": [
  {
   "cell_type": "markdown",
   "metadata": {},
   "source": [
    "<img src=\"https://upload.wikimedia.org/wikipedia/commons/thumb/5/58/Uber_logo_2018.svg/1024px-Uber_logo_2018.svg.png\" alt=\"UBER LOGO\" width=\"50%\" />\n",
    "\n",
    "# UBER Pickups "
   ]
  },
  {
   "cell_type": "markdown",
   "metadata": {},
   "source": [
    "## Company's Description 📇\n",
    "\n",
    "<a href=\"http://uber.com/\" target=\"_blank\">Uber</a> is one of the most famous startup in the world. It started as a ride-sharing application for people who couldn't afford a taxi. Now, Uber expanded its activities to Food Delivery with <a href=\"https://www.ubereats.com/fr-en\" target=\"_blank\">Uber Eats</a>, package delivery, freight transportation and even urban transportation with <a href=\"https://www.uber.com/fr/en/ride/uber-bike/\" target=\"_blank\"> Jump Bike</a> and <a href=\"https://www.li.me/\" target=\"_blank\"> Lime </a> that the company funded. \n",
    "\n",
    "\n",
    "The company's goal is to revolutionize transportation accross the globe. It operates now on about 70 countries and 900 cities and generates over $14 billion revenue! 😮\n",
    "\n",
    "                      ++++++++++++++++++++++++++++++++++++++++++++++\n",
    "                      \n",
    "                      \n",
    "## ## Description de l'entreprise 📇\n",
    "\n",
    "### <a href=\"http://uber.com/\" target=\"_blank\">Uber</a> est l'une des startups les plus célèbres au monde. Elle a commencé comme une application de covoiturage pour les personnes qui ne pouvaient pas se permettre de prendre un taxi. Maintenant, Uber a étendu ses activités à la livraison de nourriture avec <a href=\"https://www.ubereats.com/fr-en\" target=\"_blank\">Uber Eats</a>, la livraison de colis, le transport de marchandises et même le transport urbain avec <a href=\"https://www.uber.com/fr/en/ride/uber-bike/\" target=\"_blank\"> Jump Bike</a> et <a href=\"https://www.li.me/\" target=\"_blank\"> Lime </a> que la société a financés. \n",
    "\n",
    "\n",
    "### L'objectif de l'entreprise est de révolutionner le transport à travers le monde. Elle opère désormais sur environ 70 pays et 900 villes et génère plus de 14 milliards de dollars de revenus ! 😮\n"
   ]
  },
  {
   "cell_type": "markdown",
   "metadata": {},
   "source": [
    "## Project 🚧\n",
    "\n",
    "One of the main pain point that Uber's team found is that sometimes drivers are not around when users need them. For example, a user might be in San Francisco's Financial District whereas Uber drivers are looking for customers in Castro.  \n",
    "\n",
    "(If you are not familiar with the bay area, check out <a href=\"https://www.google.com/maps/place/San+Francisco,+CA,+USA/@37.7515389,-122.4567213,13.43z/data=!4m5!3m4!1s0x80859a6d00690021:0x4a501367f076adff!8m2!3d37.7749295!4d-122.4194155\" target=\"_blank\">Google Maps</a>)\n",
    "\n",
    "Eventhough both neighborhood are not that far away, users would still have to wait 10 to 15 minutes before being picked-up, which is too long. Uber's research shows that users accept to wait 5-7 minutes, otherwise they would cancel their ride. \n",
    "\n",
    "Therefore, Uber's data team would like to work on a project where **their app would recommend hot-zones in major cities to be in at any given time of day.**  \n",
    "\n",
    "                      +++++++++++++++++++++++++++++++++++++++++++++++++++++++\n",
    "                      \n",
    "                      \n",
    "## ## Projet 🚧\n",
    "\n",
    "### L'un des principaux points douloureux constatés par l'équipe d'Uber est que, parfois, les chauffeurs ne sont pas là lorsque les utilisateurs en ont besoin. Par exemple, un utilisateur peut se trouver dans le Financial District de San Francisco alors que les chauffeurs Uber cherchent des clients à Castro.  \n",
    "\n",
    "### (Si vous n'êtes pas familier avec la région de la baie, consultez <a href=\"https://www.google.com/maps/place/San+Francisco,+CA,+USA/@37.7515389,-122.4567213,13.43z/data=!4m5!3m4!1s0x80859a6d00690021:0x4a501367f076adff!8m2!3d37.7749295!4d-122.4194155\" target=\"_blank\">Google Maps</a>)\n",
    "\n",
    "### Bien que les deux quartiers ne soient pas très éloignés, les utilisateurs devraient quand même attendre 10 à 15 minutes avant d'être pris en charge, ce qui est trop long. Les recherches d'Uber montrent que les utilisateurs acceptent d'attendre de 5 à 7 minutes, sinon ils annulent leur trajet. \n",
    "\n",
    "### Par conséquent, l'équipe chargée des données d'Uber aimerait travailler sur un projet dans lequel **leur application recommanderait les zones chaudes des grandes villes où se trouver à tout moment de la journée**.  "
   ]
  },
  {
   "cell_type": "markdown",
   "metadata": {},
   "source": [
    "## Goals 🎯\n",
    "\n",
    "Uber already has data about pickups in major cities. Your objective is to create algorithms that will determine where are the hot-zones that drivers should be in. Therefore you will:\n",
    "\n",
    "* Create an algorithm to find hot zones \n",
    "* Visualize results on a nice dashboard \n",
    "\n",
    "                   +++++++++++++++++++++++++++++++++++++++++++++++++++++++++++\n",
    "                   \n",
    "                   \n",
    "## ## Objectifs 🎯\n",
    "\n",
    "### Uber dispose déjà de données sur les ramassages dans les grandes villes. Votre objectif est de créer des algorithmes qui détermineront où sont les zones chaudes dans lesquelles les chauffeurs doivent se trouver. Par conséquent, vous allez :\n",
    "\n",
    "### * Créer un algorithme pour trouver les zones chaudes \n",
    "### * Visualiser les résultats sur un joli tableau de bord. "
   ]
  },
  {
   "cell_type": "markdown",
   "metadata": {},
   "source": [
    "## Scope of this project 🖼️\n",
    "\n",
    "To start off, Uber wants to try this feature in New York city. Therefore you will only focus on this city. Data can be found here: \n",
    "\n",
    "👉👉<a href=\"https://full-stack-bigdata-datasets.s3.eu-west-3.amazonaws.com/Machine+Learning+non+Supervis%C3%A9/Projects/uber-trip-data.zip\" target=\"_blank\"> Uber Trip Data</a> 👈👈\n",
    "\n",
    "**You only need to focus on New York City for this project**\n",
    "\n",
    "\n",
    "                       ++++++++++++++++++++++++++++++++++++++++++++++++++\n",
    "                       \n",
    "                       \n",
    "## ## Portée de ce projet 🖼️\n",
    "\n",
    "### Pour commencer, Uber veut essayer cette fonctionnalité dans la ville de New York. Par conséquent, vous vous concentrerez uniquement sur cette ville. Les données peuvent être trouvées ici : \n",
    "\n",
    " 👉👉<aref=\"https://full-stack-bigdata-datasets.s3.eu-west-3.amazonaws.com/Machine+Learning+non+Supervis%C3%A9/Projects/uber-trip-data.zip\" target=\"_blank\"> Uber Trip Data</a> 👈👈👈👈\n",
    "\n",
    "### **Vous devez uniquement vous concentrer sur la ville de New York pour ce projet**."
   ]
  },
  {
   "cell_type": "markdown",
   "metadata": {},
   "source": [
    "## Helpers 🦮\n",
    "\n",
    "To help you achieve this project, here are a few tips that should help you: \n",
    "\n",
    "### Clustering is your friend \n",
    "\n",
    "Clustering technics are a perfect fit for the job. Think about it, all the pickup locations can be gathered into different clusters. You can then use **cluster coordinates to pin hot zones** 😉\n",
    "    \n",
    "\n",
    "### Create maps with `plotly` \n",
    "\n",
    "Check out <a href=\"https://plotly.com/\" target=\"_blank\">Plotly</a> documentation, you can create maps and populate them easily. Obviously, there are other libraries but this one should do the job pretty well. \n",
    "\n",
    "\n",
    "### Start small grow big \n",
    "\n",
    "Eventhough Uber wants to have hot-zones per hour and per day of week, you should first **start small**. Pick one day at a given hour and **then start to generalize** your approach. \n",
    "\n",
    "                         ++++++++++++++++++++++++++++++++++++++++++++++++++++++\n",
    "                         \n",
    "## ## Aides 🦮\n",
    "\n",
    "### Pour vous aider à réaliser ce projet, voici quelques conseils qui devraient vous aider : \n",
    "\n",
    "### Le clustering est votre ami \n",
    "\n",
    "### Les techniques de clustering sont parfaitement adaptées à ce travail. Pensez-y, tous les lieux de ramassage peuvent être rassemblés en différents clusters. Vous pouvez ensuite utiliser les **coordonnées des clusters pour localiser les zones sensibles** 😉 .\n",
    "    \n",
    "\n",
    "### Créer des cartes avec `plotly` \n",
    "\n",
    "### Consultez la documentation de <a href=\"https://plotly.com/\" target=\"_blank\">Plotly</a>, vous pouvez créer des cartes et les remplir facilement. Évidemment, il existe d'autres bibliothèques mais celle-ci devrait faire le travail assez bien. \n",
    "\n",
    "\n",
    "### Commencez petit et devenez grand \n",
    "\n",
    "### Bien qu'Uber souhaite créer des zones chaudes par heure et par jour de la semaine, vous devez d'abord **démarrer petit**. Choisissez un jour à une heure donnée et **puis commencez à généraliser** votre approche. "
   ]
  },
  {
   "cell_type": "markdown",
   "metadata": {},
   "source": [
    "## Deliverable 📬\n",
    "\n",
    "To complete this project, your team should: \n",
    "\n",
    "* Have a map with hot-zones using any python library (`plotly` or anything else). \n",
    "* You should **at least** describe hot-zones per day of week. \n",
    "* Compare results with **at least** two unsupervised algorithms like KMeans and DBScan. \n",
    "\n",
    "Your maps should look something like this: \n",
    "\n",
    "<img src=\"https://full-stack-assets.s3.eu-west-3.amazonaws.com/images/Clusters_uber_pickups.png\" alt=\"Uber Cluster Map\" />\n",
    "\n",
    "\n",
    "                           ++++++++++++++++++++++++++++++++++++++++++++\n",
    "                           \n",
    "## ## Livrable 📬\n",
    "\n",
    "### Pour réaliser ce projet, votre équipe doit : \n",
    "\n",
    "### * Avoir une carte avec les zones chaudes en utilisant n'importe quelle bibliothèque python (`plotly` ou autre). \n",
    "### * Vous devez **au moins** décrire les zones chaudes par jour de la semaine. \n",
    "### * Comparez les résultats avec **au moins** deux algorithmes non supervisés comme KMeans et DBScan. \n",
    "\n",
    "### Vos cartes devraient ressembler à quelque chose comme ceci : \n",
    "\n",
    "<img src=\"https://full-stack-assets.s3.eu-west-3.amazonaws.com/images/Clusters_uber_pickups.png\" alt=\"Uber Cluster Map\" />"
   ]
  },
  {
   "cell_type": "code",
   "execution_count": null,
   "metadata": {},
   "outputs": [],
   "source": []
  }
 ],
 "metadata": {
  "kernelspec": {
   "display_name": "Python 3 (ipykernel)",
   "language": "python",
   "name": "python3"
  },
  "language_info": {
   "codemirror_mode": {
    "name": "ipython",
    "version": 3
   },
   "file_extension": ".py",
   "mimetype": "text/x-python",
   "name": "python",
   "nbconvert_exporter": "python",
   "pygments_lexer": "ipython3",
   "version": "3.9.7"
  }
 },
 "nbformat": 4,
 "nbformat_minor": 4
}
